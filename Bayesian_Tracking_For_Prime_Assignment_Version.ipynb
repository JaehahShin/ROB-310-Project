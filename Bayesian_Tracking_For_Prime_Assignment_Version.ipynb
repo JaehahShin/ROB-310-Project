{
  "cells": [
    {
      "cell_type": "markdown",
      "metadata": {
        "id": "view-in-github",
        "colab_type": "text"
      },
      "source": [
        "<a href=\"https://colab.research.google.com/github/JaehahShin/ROB-310-Project/blob/main/Bayesian_Tracking_For_Prime_Assignment_Version.ipynb\" target=\"_parent\"><img src=\"https://colab.research.google.com/assets/colab-badge.svg\" alt=\"Open In Colab\"/></a>"
      ]
    },
    {
      "cell_type": "markdown",
      "metadata": {
        "id": "upxK0qP-ulOx"
      },
      "source": [
        "# Prime Number with Bayesian Tracking of the Number of Primes in a Range"
      ]
    },
    {
      "cell_type": "code",
      "execution_count": null,
      "metadata": {
        "id": "P9Vl1GcjulOy"
      },
      "outputs": [],
      "source": [
        "# This is a library of functions students can use to do this project.\n",
        "# Make sure students have this installed on their computer. (or use google colab so that they don't need to have it on their local computer)\n",
        "import matplotlib\n",
        "from matplotlib import pyplot as plt\n",
        "from matplotlib.animation import FuncAnimation\n",
        "from IPython.display import HTML\n",
        "from IPython.display import HTML\n",
        "import numpy as np\n",
        "import random\n",
        "import math\n",
        "import sympy"
      ]
    },
    {
      "cell_type": "markdown",
      "metadata": {
        "id": "gh_XJOOVulO0"
      },
      "source": [
        "## Probalibistic Models"
      ]
    },
    {
      "cell_type": "code",
      "execution_count": null,
      "metadata": {
        "id": "TH8tdqzrulO0"
      },
      "outputs": [],
      "source": [
        "# This is initial colour of topological map of what robot can go.\n",
        "# As shown below, we use prime and composite numbers to represent the colours.\n",
        "# This part is given as this is not the main part of the project.\n",
        "'''NOTE: NOTHING TO DO HERE (READ and UNDERSTAND)'''\n",
        "from sympy import *\n",
        "\n",
        "NOTHING = -1\n",
        "BLUE = 0 # non-prime\n",
        "GREEN = 1 # prime\n",
        "\n",
        "code2color = {-1: 'nothing', 0: 'blue', 1: 'green'}\n",
        "\n",
        "addresses = [1, 2, 3, 4, 5, 6, 7, 8, 9, 10, 11]\n",
        "\n",
        "# Generate a list of random numbers between 2 and 11\n",
        "random_number = [random.randint(2, 11) for _ in range(10)]\n",
        "\n",
        "# Ensure the last element is a prime number\n",
        "while True:\n",
        "    last_num = random.randint(2, 11)\n",
        "    if isprime(last_num):\n",
        "        random_number.append(last_num)\n",
        "        break\n",
        "print(\"Random Numbers:\", random_number)\n",
        "\n",
        "# Generate the initial colors list with default colors (BLUE)\n",
        "colors = [BLUE if not isprime(num) else GREEN for num in random_number]\n",
        "\n",
        "print(\"Colors:\", colors)\n",
        "\n"
      ]
    },
    {
      "cell_type": "code",
      "execution_count": null,
      "metadata": {
        "id": "d3z8qrIzulO0"
      },
      "outputs": [],
      "source": [
        "'''TODO: Implement the dynamic_pred functions'''\n",
        "def dynamic_pred(x_k, u_k):\n",
        "    '''dynamics probability of P(x_k_1 | x_k, u_k) return in form of a state vector'''\n",
        "    # x_k_1 is an address\n",
        "    # x_k is an address\n",
        "    # u_k is -1, 0, 1\n",
        "    '''\n",
        "    xk+1 |uk =  -1      0        +1\n",
        "    X - χ       0.85    0.05    0.05\n",
        "    X           0.10    0.90    0.10\n",
        "    X + χ       0.05    0.05    0.85\n",
        "    '''"
      ]
    },
    {
      "cell_type": "code",
      "execution_count": null,
      "metadata": {
        "id": "09PPleuCulO1"
      },
      "outputs": [],
      "source": [
        "# This is the part where we use miler_rabin_with_confidence function to determine the how much it is confident say that is prime numbers.\n",
        "# This part is given, students do not need to implement this part.\n",
        "'''NOTE: NOTHING TO DO HERE (READ and UNDERSTAND)'''\n",
        "\n",
        "def miller_rabin_with_confidence(n, k=5):\n",
        "    n = int(n)\n",
        "    if n <= 1:\n",
        "        return False, 0  # Randomized confidence for trivial cases\n",
        "    if n <= 3:\n",
        "        return True, random.uniform(0.9, 1.0)    #\n",
        "    if n % 2 == 0:\n",
        "        return False, random.uniform(0.1, 0.2)  # Randomized confidence for even numbers\n",
        "\n",
        "    # Write n-1 as 2^r * d\n",
        "    r, d = 0, n - 1\n",
        "    while d % 2 == 0:\n",
        "        r += 1\n",
        "        d //= 2\n",
        "\n",
        "    # Perform k iterations\n",
        "    for _ in range(k):\n",
        "        a = random.randint(2, n - 2)\n",
        "        x = pow(a, d, n)\n",
        "        if x == 1 or x == n - 1:\n",
        "            continue\n",
        "        for _ in range(r - 1):\n",
        "            x = pow(x, 2, n)\n",
        "            if x == n - 1:\n",
        "                break\n",
        "        else:\n",
        "            # Composite detected\n",
        "            confidence1 = random.uniform(0.1, 0.2)  # Randomized confidence for composites\n",
        "            return False, confidence1\n",
        "\n",
        "    # If no evidence of compositeness was found, n is probably prime\n",
        "    confidence2 = 1 - 4**-k\n",
        "    return True, confidence2\n",
        "\n",
        "\n",
        "confidences = []\n",
        "\n",
        "for number in random_number:\n",
        "    k_iterations = 2  # Adjust the number of iterations for the Miller-Rabin test\n",
        "\n",
        "    # Apply Miller-Rabin test for primality\n",
        "    is_probably_prime, confidence = miller_rabin_with_confidence(number, k_iterations)\n",
        "    confidences.append(confidence)\n",
        "\n",
        "    # Output result\n",
        "    print(f\"Result: {number} is {'probably prime' if is_probably_prime else 'composite'} with confidence {confidence:.5f}\")\n",
        "\n",
        "print(\"Confidences:\", confidences)\n",
        "\n"
      ]
    },
    {
      "cell_type": "code",
      "execution_count": null,
      "metadata": {
        "id": "qVjSKf5UulO1"
      },
      "outputs": [],
      "source": [
        "possible_observations = ['blue', 'green', 'nothing']  # Observed states (z_k)\n",
        "\n",
        "'''TODO: Implement the measurement model function'''\n",
        "\n",
        "def measurement_model(z_k, x_k, confidence):\n",
        "    '''Measurement probability of P(z_k | x_k) returned in the form of a state vector'''\n",
        "\n",
        "    # Dynamically generate measurement probabilities based on confidence\n",
        "    if confidence > 0.9:  # High confidence\n",
        "        # Fill the probability arrays for blue_meas and green_meas\n",
        "        # USE THIS PROBABILITY FOR HIGH CONFIDENCE\n",
        "        #              | blue green nothing\n",
        "        '''blue_meas = [0.90, 0.05, 0.05]\n",
        "           green_meas = [0.05, 0.9, 0.05]'''\n",
        "        pass\n",
        "    elif confidence < 0.5:  # Low confidence\n",
        "        # Fill the probability arrays for blue_meas and green_meas\n",
        "        # USE THIS PROBABILITY FOR LOW CONFIDENCE\n",
        "        #              | blue green nothing\n",
        "        '''blue_meas = [0.5, 0.4, 0.1]\n",
        "           green_meas = [0.4, 0.5, 0.1] '''\n",
        "        pass\n",
        "\n",
        "    # HINT: Measurement probabilities matrix\n",
        "\n",
        "    # HINT: Return the appropriate measurement probability\n",
        "\n",
        "'''TODO: DO FOLLOWING STEPS'''\n",
        "# Iterate through the confidences list and compute probabilities for each observation (z_k)\n",
        "# Implement the loop and necessary variables (confidences, addresses) yourself"
      ]
    },
    {
      "cell_type": "markdown",
      "metadata": {
        "id": "ty-QRjQ1ulO2"
      },
      "source": [
        "## Bayesian Model"
      ]
    },
    {
      "cell_type": "code",
      "execution_count": null,
      "metadata": {
        "id": "HsbHRmTNulO2"
      },
      "outputs": [],
      "source": [
        "'''TODO: Implement state_predictions function'''\n",
        "def state_predictions(x_k, u_k):\n",
        "    '''return probability of P(x_k_1 | x_k, u_k) in form of a vector'''"
      ]
    },
    {
      "cell_type": "code",
      "execution_count": null,
      "metadata": {
        "id": "oM4gruuDulO2"
      },
      "outputs": [],
      "source": [
        "'''TODO: Implement bayes_step function'''\n",
        "def bayes_step(x_k, u_k, z_k_1):\n",
        "    '''return probability of P(x_k+1 | x_k, u_k, z_k_1) in form of a vector'''\n",
        ""
      ]
    },
    {
      "cell_type": "markdown",
      "metadata": {
        "id": "K5QjrxjRulO2"
      },
      "source": [
        "## Demonstration\n"
      ]
    },
    {
      "cell_type": "code",
      "execution_count": null,
      "metadata": {
        "id": "RHF6gTIMulO2"
      },
      "outputs": [],
      "source": [
        "'''TODO: Implement belief and controls urself :)'''\n",
        "\n",
        "'''NOTE: Following code is for generating measurments with nose. This is given as this is not the main part of the project.'''\n",
        "def generate_measurements(colors1):\n",
        "    \"\"\"Generate measurements based on colors1 with slight variations, iterating over colors1 twice.\"\"\"\n",
        "    measurements = []\n",
        "\n",
        "    for _ in range(num):  # Iterate over colors once # num is the number of iterations that students need to define themselves in the code.\n",
        "        for color in colors:\n",
        "            if color == GREEN:\n",
        "                measurements.append(random.choices([GREEN, NOTHING, BLUE], weights=[99, 0.5, 0.5])[0])\n",
        "            elif color == BLUE:\n",
        "                measurements.append(random.choices([BLUE, NOTHING, GREEN], weights=[99, 0.5, 0.5])[0])\n",
        "\n",
        "    return measurements\n",
        "measurements = generate_measurements(colors)\n",
        "print(f\"Measurements: {measurements}\")\n",
        "\n"
      ]
    },
    {
      "cell_type": "code",
      "execution_count": null,
      "metadata": {
        "id": "RMK78I26ulO3"
      },
      "outputs": [],
      "source": [
        "'''TODO: Implement the code that iterates through the list of control inputs and measurements, updating a list of beliefs using a Bayesian update step.'''"
      ]
    },
    {
      "cell_type": "markdown",
      "metadata": {
        "id": "JQiZ0E5gulO3"
      },
      "source": [
        "## Visualization of Belief Changes Over Time"
      ]
    },
    {
      "cell_type": "code",
      "execution_count": null,
      "metadata": {
        "id": "BtNQwh2JulO3"
      },
      "outputs": [],
      "source": [
        "'''TODO: Plot the beliefs over time using a bar chart. The x-axis should be the addresses and the y-axis should be the probabilities. The bars should be colored according to the colors list. The plot should be animated, showing the beliefs at each time step.'''"
      ]
    }
  ],
  "metadata": {
    "kernelspec": {
      "display_name": "Python 3",
      "language": "python",
      "name": "python3"
    },
    "language_info": {
      "codemirror_mode": {
        "name": "ipython",
        "version": 3
      },
      "file_extension": ".py",
      "mimetype": "text/x-python",
      "name": "python",
      "nbconvert_exporter": "python",
      "pygments_lexer": "ipython3",
      "version": "3.10.12"
    },
    "colab": {
      "provenance": [],
      "include_colab_link": true
    }
  },
  "nbformat": 4,
  "nbformat_minor": 0
}